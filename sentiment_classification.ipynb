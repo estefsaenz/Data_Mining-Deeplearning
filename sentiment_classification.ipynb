{
 "cells": [
  {
   "cell_type": "markdown",
   "metadata": {},
   "source": [
    "## Sentiment Classification: classifying IMDB reviews\n",
    "\n",
    "In this task, you will learn how to process text data and how to train neural networks with limited input text data using pre-trained embeddings for sentiment classification (classifying a review document as \"positive\" or \"negative\" based solely on the text content of the review)."
   ]
  },
  {
   "cell_type": "markdown",
   "metadata": {},
   "source": [
    "We will use the `Embedding` layer in Keras to represent text input. The `Embedding` layer is best understood as a dictionary mapping integer indices (which stand for specific words) to dense vectors. It takes as input integers, then looks up these integers into an internal dictionary, and finally returns the associated vectors. It's effectively a dictionary lookup.\n",
    "\n",
    "The `Embedding` layer takes as input a 2D tensor of integers, of shape `(samples, sequence_length)`, where each entry is a sequence of integers. It can embed sequences of variable lengths, so for instance we could feed into our embedding layer above batches that could have  shapes `(32, 10)` (batch of 32 sequences of length 10) or `(64, 15)` (batch of 64 sequences of length 15). All sequences in a batch must have the same length, though (since we need to pack them into a single tensor), so sequences that are shorter than others should be padded with zeros, and sequences that are longer should be truncated.\n",
    "\n",
    "This layer returns a 3D floating point tensor, of shape `(samples, sequence_length, embedding_dimensionality)`. Such a 3D tensor can then be processed by a RNN layer or a 1D convolution layer.\n",
    "\n",
    "You can instantiate the `Embedding` layer by randomly initialising its weights (its internal dictionary of token vectors). During training, these word vectors will be gradually adjusted via backpropagation, structuring the space into something that the downstream model can exploit. Once fully trained, your embedding space will show a lot of structure -- a kind of structure specialized for the specific problem you were training your model for. You can also instantiate the `Embedding` layer by intialising its weights using the pre-trained word embeddings, such as GloVe word embeddings pretrained from Wikipedia articles."
   ]
  },
  {
   "cell_type": "markdown",
   "metadata": {},
   "source": [
    "#### a) Download the IMDB data as raw text\n",
    "\n",
    "First, create a \"data\" directory, then head to `http://ai.stanford.edu/~amaas/data/sentiment/` and download the raw IMDB dataset (if the URL isn't working anymore, just Google \"IMDB dataset\"). Save it into the \"data\" directory. Uncompress it. Store the individual reviews into a list of strings, one string per review, and also collect the review labels (positive / negative) into a separate `labels` list."
   ]
  },
  {
   "cell_type": "code",
   "execution_count": 1,
   "metadata": {},
   "outputs": [],
   "source": [
    "import os\n",
    "\n",
    "# write your code here\n",
    "\n",
    "'''\n",
    "###############################################################################################################\n",
    "\n",
    "NOTE: Please note that some comments were added after running, so they do not appear on the results section.\n",
    "Comments are all in the code section.\n",
    "\n",
    "\n",
    "################################################################################################################\n",
    "'''\n",
    "\n",
    "\n",
    "import numpy as np\n",
    "\n",
    "'''\n",
    "===========\n",
    "LOAD FILES\n",
    "===========\n",
    "'''\n",
    "\n",
    "# TRAINING SET\n",
    "\n",
    "pos_dir = './aclImdb/train/pos/'\n",
    "neg_dir = './aclImdb/train/neg/'\n",
    "\n",
    "file_path = [pos_dir+i for i in os.listdir(pos_dir)]\n",
    "file_path = file_path + [neg_dir+i for i in os.listdir(neg_dir)]\n",
    "\n",
    "np.random.seed(1234) \n",
    "np.random.shuffle(file_path) # shuffles the ordering of filenames (deterministic given the chosen seed)\n",
    "\n",
    "train_data = []\n",
    "train_label = []\n",
    "\n",
    "# loop over the reviews paths and get the labels\n",
    "for reviewPath in file_path:\n",
    "    \n",
    "    if 'pos' in reviewPath:\n",
    "        label = 1\n",
    "    else:\n",
    "        label = 0\n",
    "        \n",
    "    # load the reviews\n",
    "    rev = open(reviewPath)\n",
    "    # update the data and labels lists, respectively\n",
    "    train_data.append(rev.read())\n",
    "    rev.close()\n",
    "    train_label.append(label)"
   ]
  },
  {
   "cell_type": "code",
   "execution_count": 2,
   "metadata": {},
   "outputs": [],
   "source": [
    "# TESTING SET\n",
    "\n",
    "pos_dir = './aclImdb/test/pos/'\n",
    "neg_dir = './aclImdb/test/neg/'\n",
    "\n",
    "file_path = [pos_dir+i for i in os.listdir(pos_dir)]\n",
    "file_path = file_path + [neg_dir+i for i in os.listdir(neg_dir)]\n",
    "\n",
    "np.random.shuffle(file_path) # shuffles the ordering of filenames (deterministic given the chosen seed)\n",
    "\n",
    "test_data = []\n",
    "test_label = []\n",
    "\n",
    "# loop over the reviews paths and get the labels\n",
    "\n",
    "for reviewPath in file_path:\n",
    "    \n",
    "    if 'pos' in reviewPath:\n",
    "        label = 1\n",
    "    else:\n",
    "        label = 0\n",
    "        \n",
    "    # load the reviews\n",
    "    rev = open(reviewPath)\n",
    "    # update the data and labels lists, respectively\n",
    "    test_data.append(rev.read())\n",
    "    rev.close()\n",
    "    test_label.append(label)"
   ]
  },
  {
   "cell_type": "markdown",
   "metadata": {},
   "source": [
    "#### b) Pre-process the review documents \n",
    "\n",
    "Pre-process review documents by tokenisation and split the data into the training and testing sets. You can restrict the training data to the first 1000 reviews and only consider the top 5,000 words in the dataset. You can also cut reviews after 100 words (that is, each review contains a maximum of 100 words)."
   ]
  },
  {
   "cell_type": "code",
   "execution_count": 3,
   "metadata": {},
   "outputs": [
    {
     "name": "stderr",
     "output_type": "stream",
     "text": [
      "Using TensorFlow backend.\n"
     ]
    }
   ],
   "source": [
    "from keras.preprocessing.text import Tokenizer\n",
    "from keras.preprocessing.sequence import pad_sequences\n",
    "import numpy as np\n",
    "\n",
    "# write your code here\n",
    "\n",
    "train_data1 = []\n",
    "train_label1 = []\n",
    "test_data1 = []\n",
    "test_label1 = []\n",
    "\n",
    "for i in range(0,len(train_data),1):\n",
    "    if len(train_data1) == 1000:\n",
    "        break\n",
    "    else:\n",
    "        if len(train_data[i].split()) < 100:\n",
    "            train_data1.append(train_data[i])\n",
    "            train_label1.append(train_label[i])\n",
    "            \n",
    "test_label1 = test_label\n",
    "test_data1 = test_data\n",
    "\n",
    "\n",
    "'''\n",
    "As suggested, we are only taking the first 1,000 reviews (which are already randomized) and restrinting \n",
    "them to the ones that contain a total of 100 words. This is to avoid cutting some of the positive or negative comments\n",
    "and loose context.\n",
    "'''\n"
   ]
  },
  {
   "cell_type": "code",
   "execution_count": 4,
   "metadata": {},
   "outputs": [],
   "source": [
    "token_obj = Tokenizer(num_words=5000)\n",
    "total_rev = train_data1 + test_data1\n",
    "token_obj.fit_on_texts(total_rev)\n",
    "\n",
    "# pad sequences\n",
    "max_length = 100\n",
    "\n",
    "train_tokens = token_obj.texts_to_sequences(train_data1)\n",
    "test_tokens = token_obj.texts_to_sequences(test_data1)\n",
    "\n",
    "train_pad = pad_sequences(train_tokens, maxlen=max_length, padding='post')\n",
    "test_pad = pad_sequences(test_tokens, maxlen=max_length, padding='post')\n",
    "\n",
    "'''\n",
    "Now we tokenize our information which meand that every word is going to be mappeds into unique integer ids.\n",
    "limiting to a total of 5,000 words. Then we follow to pad variable length sequences. The padding will be\n",
    "performed on all sequences to achieve the max length of 100.\n",
    "'''\n",
    "\n"
   ]
  },
  {
   "cell_type": "markdown",
   "metadata": {},
   "source": [
    "#### c) Download the GloVe word embeddings and map each word in the dataset into its pre-trained GloVe word embedding.\n",
    "\n",
    "First go to `https://nlp.stanford.edu/projects/glove/` and download the pre-trained \n",
    "embeddings from 2014 English Wikipedia into the \"data\" directory. It's a 822MB zip file named `glove.6B.zip`, containing 100-dimensional embedding vectors for \n",
    "400,000 words (or non-word tokens). Un-zip it.\n",
    "\n",
    "Parse the un-zipped file (it's a `txt` file) to build an index mapping words (as strings) to their vector representation (as number vectors).\n",
    "\n",
    "Build an embedding matrix that will be loaded into an `Embedding` layer later. It must be a matrix of shape `(max_words, embedding_dim)`, where each entry `i` contains the `embedding_dim`-dimensional vector for the word of index `i` in our reference word index \n",
    "(built during tokenization). Note that the index `0` is not supposed to stand for any word or token -- it's a placeholder."
   ]
  },
  {
   "cell_type": "code",
   "execution_count": 5,
   "metadata": {},
   "outputs": [],
   "source": [
    "# write your code here\n",
    "\n",
    "glove_path = './glove/glove.6B.100d.txt'\n",
    "\n",
    "embeddings_index = {}\n",
    "\n",
    "gf = open(glove_path)\n",
    "\n",
    "for line in gf:\n",
    "    splitLine = line.split()\n",
    "    word = splitLine[0]\n",
    "    embedding = np.array([float(val) for val in splitLine[1:]])\n",
    "    embeddings_index[word] = embedding"
   ]
  },
  {
   "cell_type": "code",
   "execution_count": 6,
   "metadata": {
    "scrolled": true
   },
   "outputs": [
    {
     "name": "stdout",
     "output_type": "stream",
     "text": [
      "(5000, 100)\n"
     ]
    }
   ],
   "source": [
    "\n",
    "\n",
    "# recall that max_length = 100\n",
    "embedding_dim = 100\n",
    "\n",
    "embedding_matrix = np.zeros((5000, embedding_dim))\n",
    "print(embedding_matrix.shape)\n",
    "word_index = token_obj.word_index\n",
    "\n",
    "for word, i in word_index.items():\n",
    "    if i == 5000:\n",
    "        break\n",
    "    else:\n",
    "        embedding_vector = embeddings_index.get(word) ## This references the loaded embeddings dictionary\n",
    "        if embedding_vector is not None:\n",
    "            # words not found in embedding index will be all-zeros.\n",
    "            embedding_matrix[i] = embedding_vector\n",
    "            \n",
    "'''\n",
    "As our task is to predicting the polarity (positive or negative) of a review, we first need a model that can\n",
    "precict the next word in a sentece. This is to undertand the lenguage structure, before it recognize weather\n",
    "the comment has a positive or negative sentiment. As suggested, we are using pre-trained word representation\n",
    "based on co-ocurrence probablitites.\n",
    "'''\n",
    "\n",
    "        "
   ]
  },
  {
   "cell_type": "markdown",
   "metadata": {},
   "source": [
    "#### d) Build and train a simple Sequential model\n",
    "\n",
    "The model contains an Embedding Layer with maximum number of tokens to be 10,000 and embedding dimensionality as 100. Initialise the Embedding Layer with the pre-trained GloVe word vectors. Set the maximum length of each review to 100. Flatten the 3D embedding output to 2D and add a Dense Layer which is the classifier. Train the model with a 'rmsprop' optimiser. You need to freeze the embedding layer by setting its `trainable` attribute to `False` so that its weights will not be updated during training."
   ]
  },
  {
   "cell_type": "code",
   "execution_count": 7,
   "metadata": {},
   "outputs": [
    {
     "name": "stdout",
     "output_type": "stream",
     "text": [
      "_________________________________________________________________\n",
      "Layer (type)                 Output Shape              Param #   \n",
      "=================================================================\n",
      "embedding_1 (Embedding)      (None, 100, 100)          500000    \n",
      "_________________________________________________________________\n",
      "flatten_1 (Flatten)          (None, 10000)             0         \n",
      "_________________________________________________________________\n",
      "dense_1 (Dense)              (None, 1)                 10001     \n",
      "=================================================================\n",
      "Total params: 510,001\n",
      "Trainable params: 10,001\n",
      "Non-trainable params: 500,000\n",
      "_________________________________________________________________\n",
      "None\n",
      "Train on 1000 samples, validate on 25000 samples\n",
      "Epoch 1/10\n",
      " - 1s - loss: 0.7763 - acc: 0.5370 - val_loss: 0.7426 - val_acc: 0.5510\n",
      "Epoch 2/10\n",
      " - 0s - loss: 0.5476 - acc: 0.7120 - val_loss: 0.7396 - val_acc: 0.5696\n",
      "Epoch 3/10\n",
      " - 0s - loss: 0.4227 - acc: 0.8300 - val_loss: 1.2834 - val_acc: 0.5110\n",
      "Epoch 4/10\n",
      " - 0s - loss: 0.3517 - acc: 0.8870 - val_loss: 0.7107 - val_acc: 0.6000\n",
      "Epoch 5/10\n",
      " - 0s - loss: 0.2955 - acc: 0.9220 - val_loss: 0.9905 - val_acc: 0.5471\n",
      "Epoch 6/10\n",
      " - 0s - loss: 0.2459 - acc: 0.9590 - val_loss: 0.7375 - val_acc: 0.6103\n",
      "Epoch 7/10\n",
      " - 0s - loss: 0.2022 - acc: 0.9700 - val_loss: 0.9990 - val_acc: 0.5710\n",
      "Epoch 8/10\n",
      " - 0s - loss: 0.1683 - acc: 0.9780 - val_loss: 1.0327 - val_acc: 0.5680\n",
      "Epoch 9/10\n",
      " - 0s - loss: 0.1432 - acc: 0.9910 - val_loss: 0.8113 - val_acc: 0.6100\n",
      "Epoch 10/10\n",
      " - 0s - loss: 0.1184 - acc: 0.9940 - val_loss: 0.8546 - val_acc: 0.6058\n"
     ]
    }
   ],
   "source": [
    "from keras.models import Sequential\n",
    "from keras.layers import Embedding, Flatten, Dense\n",
    "\n",
    "# write your code here\n",
    "\n",
    "\n",
    "# recall that max_length = 100\n",
    "# recall that embedding_dim = 100\n",
    "\n",
    "model = Sequential()\n",
    "model.add(Embedding(5000,100, weights=[embedding_matrix],\n",
    "                    input_length=100,trainable=False))\n",
    "model.add(Flatten())\n",
    "model.add(Dense(1, activation='sigmoid'))\n",
    "\n",
    "model.compile(loss='binary_crossentropy', optimizer='rmsprop',metrics=['accuracy'])\n",
    "\n",
    "print(model.summary())\n",
    "\n",
    "H = model.fit(train_pad, train_label1, epochs=10,\n",
    "          validation_data=(test_pad, test_label1), verbose=2)\n",
    "\n",
    "\n",
    "'''\n",
    "Now we train a simple sequential model that contains an embeddign layer with our embedding matrix (the resultant of the\n",
    "pre-trained GloVe word representation). In here now we expect to predict the sentiment (positive or negative) of our\n",
    "reviews.\n",
    "'''\n"
   ]
  },
  {
   "cell_type": "markdown",
   "metadata": {},
   "source": [
    "#### e) Plot the training and validation loss and accuracies and evaluate the trained model on the test set.\n",
    "\n",
    "What do you observe from the results?"
   ]
  },
  {
   "cell_type": "code",
   "execution_count": 9,
   "metadata": {},
   "outputs": [
    {
     "data": {
      "image/png": "[encoded data removed]",
      "text/plain": [
       "<Figure size 432x288 with 1 Axes>"
      ]
     },
     "metadata": {
      "needs_background": "light"
     },
     "output_type": "display_data"
    },
    {
     "data": {
      "image/png": "[encoded data removed]",
      "text/plain": [
       "<Figure size 432x288 with 1 Axes>"
      ]
     },
     "metadata": {
      "needs_background": "light"
     },
     "output_type": "display_data"
    },
    {
     "name": "stdout",
     "output_type": "stream",
     "text": [
      "25000/25000 [==============================] - 1s 36us/step\n",
      "Accuracy: 60.584\n"
     ]
    }
   ],
   "source": [
    "import matplotlib.pyplot as plt\n",
    "\n",
    "# write your code here\n",
    "\n",
    "\n",
    "\n",
    "# summarize history for accuracy\n",
    "plt.plot(H.history['acc'])\n",
    "plt.plot(H.history['val_acc'])\n",
    "plt.title('model accuracy')\n",
    "plt.ylabel('accuracy')\n",
    "plt.xlabel('epoch')\n",
    "plt.legend(['train', 'valid'], loc='upper left')\n",
    "plt.show()\n",
    "\n",
    "# summarize history for loss\n",
    "plt.plot(H.history['loss'])\n",
    "plt.plot(H.history['val_loss'])\n",
    "plt.title('model loss')\n",
    "plt.ylabel('loss')\n",
    "plt.xlabel('epoch')\n",
    "plt.legend(['train', 'valid'], loc='upper left')\n",
    "plt.show()\n",
    "\n",
    "score = model.evaluate(test_pad, test_label1)\n",
    "print('Accuracy: %s' % (score[1]*100))\n",
    "\n",
    "\n",
    "'''\n",
    "According to the graphs shown below, the accuracy of the training set is way higher than the validation set.\n",
    "Also, the loss of our training set is considerably lower than the training set. The high difference in the performance\n",
    "on both train and validation datasets reflects that our model is overfitting. The bad performance is consitently present\n",
    "gets higher on every training step of the model. This model gets an accuracy of around 60.5% on the testing set.\n",
    "\n",
    "'''\n"
   ]
  },
  {
   "cell_type": "markdown",
   "metadata": {},
   "source": [
    "#### f) Add an LSTM layer into the simple neural network architecture and re-train the model on the training set, plot the training and validation loss/accuracies, also evaluate the trained model on the test set and report the result."
   ]
  },
  {
   "cell_type": "code",
   "execution_count": 10,
   "metadata": {},
   "outputs": [
    {
     "name": "stdout",
     "output_type": "stream",
     "text": [
      "_________________________________________________________________\n",
      "Layer (type)                 Output Shape              Param #   \n",
      "=================================================================\n",
      "embedding_2 (Embedding)      (None, 100, 100)          500000    \n",
      "_________________________________________________________________\n",
      "lstm_1 (LSTM)                (None, 100)               80400     \n",
      "_________________________________________________________________\n",
      "dense_2 (Dense)              (None, 250)               25250     \n",
      "_________________________________________________________________\n",
      "dense_3 (Dense)              (None, 1)                 251       \n",
      "=================================================================\n",
      "Total params: 605,901\n",
      "Trainable params: 105,901\n",
      "Non-trainable params: 500,000\n",
      "_________________________________________________________________\n",
      "None\n",
      "Train on 1000 samples, validate on 25000 samples\n",
      "Epoch 1/10\n",
      " - 28s - loss: 0.6934 - acc: 0.5210 - val_loss: 0.9575 - val_acc: 0.5005\n",
      "Epoch 2/10\n",
      " - 27s - loss: 0.6906 - acc: 0.5420 - val_loss: 0.7046 - val_acc: 0.5180\n",
      "Epoch 3/10\n",
      " - 27s - loss: 0.6881 - acc: 0.5450 - val_loss: 0.7396 - val_acc: 0.5328\n",
      "Epoch 4/10\n",
      " - 27s - loss: 0.6842 - acc: 0.6080 - val_loss: 0.7146 - val_acc: 0.5633\n",
      "Epoch 5/10\n",
      " - 27s - loss: 0.6443 - acc: 0.6570 - val_loss: 0.6464 - val_acc: 0.6341\n",
      "Epoch 6/10\n",
      " - 27s - loss: 0.6166 - acc: 0.6830 - val_loss: 0.6168 - val_acc: 0.6599\n",
      "Epoch 7/10\n",
      " - 27s - loss: 0.6071 - acc: 0.7030 - val_loss: 0.6980 - val_acc: 0.5718\n",
      "Epoch 8/10\n",
      " - 27s - loss: 0.5900 - acc: 0.7290 - val_loss: 0.7280 - val_acc: 0.5749\n",
      "Epoch 9/10\n",
      " - 27s - loss: 0.5695 - acc: 0.7300 - val_loss: 0.5883 - val_acc: 0.6991\n",
      "Epoch 10/10\n",
      " - 27s - loss: 0.5564 - acc: 0.7460 - val_loss: 0.6060 - val_acc: 0.6807\n"
     ]
    }
   ],
   "source": [
    "from keras.layers import LSTM\n",
    "\n",
    "# write your code here\n",
    "\n",
    "\n",
    "model = Sequential()\n",
    "model.add(Embedding(5000,100, weights=[embedding_matrix],\n",
    "                    input_length=100,trainable=False))\n",
    "model.add(LSTM(100))\n",
    "model.add(Dense(250, activation='relu'))\n",
    "model.add(Dense(1, activation='sigmoid'))\n",
    "\n",
    "model.compile(loss='binary_crossentropy', optimizer='rmsprop',metrics=['accuracy'])\n",
    "\n",
    "print(model.summary())\n",
    "\n",
    "H1 = model.fit(train_pad, train_label1, epochs=10,\n",
    "          validation_data=(test_pad, test_label1), verbose=2)"
   ]
  },
  {
   "cell_type": "code",
   "execution_count": 11,
   "metadata": {},
   "outputs": [
    {
     "data": {
      "image/png": "[encoded data removed]",
      "text/plain": [
       "<Figure size 432x288 with 1 Axes>"
      ]
     },
     "metadata": {
      "needs_background": "light"
     },
     "output_type": "display_data"
    },
    {
     "data": {
      "image/png": "[encoded data removed]",
      "text/plain": [
       "<Figure size 432x288 with 1 Axes>"
      ]
     },
     "metadata": {
      "needs_background": "light"
     },
     "output_type": "display_data"
    },
    {
     "name": "stdout",
     "output_type": "stream",
     "text": [
      "25000/25000 [==============================] - 24s 945us/step\n",
      "Accuracy: 68.068\n"
     ]
    }
   ],
   "source": [
    "\n",
    "# summarize history for accuracy\n",
    "plt.plot(H1.history['acc'])\n",
    "plt.plot(H1.history['val_acc'])\n",
    "plt.title('model accuracy')\n",
    "plt.ylabel('accuracy')\n",
    "plt.xlabel('epoch')\n",
    "plt.legend(['train', 'valid'], loc='upper left')\n",
    "plt.show()\n",
    "\n",
    "# summarize history for loss\n",
    "plt.plot(H1.history['loss'])\n",
    "plt.plot(H1.history['val_loss'])\n",
    "plt.title('model loss')\n",
    "plt.ylabel('loss')\n",
    "plt.xlabel('epoch')\n",
    "plt.legend(['train', 'valid'], loc='upper left')\n",
    "plt.show()\n",
    "\n",
    "score = model.evaluate(test_pad, test_label1)\n",
    "\n",
    "print('Accuracy: %s' % (score[1]*100))\n",
    "\n",
    "\n",
    "'''\n",
    "By implementing an LSTME layer we can observe a better performance. The accuracy of our model reduced the\n",
    "over-learning on the trainig dataset, given that now the validation accuracy is closer to the training result. Also, \n",
    "now we can see that the model presents a more comparable loss performance on both train and validation datasets.\n",
    "Finally, we obtained a significant improvement on the accuracy level, confirming that this model\n",
    "has a better performance.\n",
    "'''\n"
   ]
  }
 ],
 "metadata": {
  "kernelspec": {
   "display_name": "Python 3",
   "language": "python",
   "name": "python3"
  },
  "language_info": {
   "codemirror_mode": {
    "name": "ipython",
    "version": 3
   },
   "file_extension": ".py",
   "mimetype": "text/x-python",
   "name": "python",
   "nbconvert_exporter": "python",
   "pygments_lexer": "ipython3",
   "version": "3.6.3"
  }
 },
 "nbformat": 4,
 "nbformat_minor": 2
}
